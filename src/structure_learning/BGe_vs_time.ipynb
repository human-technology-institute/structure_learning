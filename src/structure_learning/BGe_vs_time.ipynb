{
 "cells": [
  {
   "cell_type": "code",
   "execution_count": 1,
   "id": "2df57459",
   "metadata": {},
   "outputs": [],
   "source": [
    "import sys\n",
    "import time\n",
    "sys.path.append('..')\n",
    "import numpy as np\n",
    "from structure_learning.data import SyntheticDataset, Data\n",
    "from structure_learning.data_structures import DAG\n",
    "from structure_learning.scores import BGeScore, BDeuScore"
   ]
  },
  {
   "cell_type": "code",
   "execution_count": 2,
   "id": "65f1e564",
   "metadata": {},
   "outputs": [],
   "source": [
    "np.random.seed(1000)"
   ]
  },
  {
   "cell_type": "code",
   "execution_count": 3,
   "id": "67cb78ff",
   "metadata": {},
   "outputs": [],
   "source": [
    "RUNNING_TIMES = {}"
   ]
  },
  {
   "cell_type": "code",
   "execution_count": null,
   "id": "eb2664ba",
   "metadata": {},
   "outputs": [
    {
     "name": "stdout",
     "output_type": "stream",
     "text": [
      "nodes: 3\n",
      "obs: 100\n",
      "011 000 010\n",
      "obs: 1000\n",
      "001 101 000\n",
      "obs: 10000\n",
      "001 101 000\n",
      "obs: 100000\n",
      "000 101 100\n",
      "obs: 1000000\n",
      "011 001 000\n",
      "obs: 10000000\n",
      "010 000 110\n",
      "obs: 100000000\n",
      "011 001 000\n",
      "obs: 1000000000\n",
      "011 000 010\n"
     ]
    }
   ],
   "source": [
    "for num_nodes in [3,5]:\n",
    "    print('nodes:', num_nodes)\n",
    "    node_labels = [chr(ord('a') + i) for i in range(num_nodes)]\n",
    "    RUNNING_TIMES[num_nodes] = {}\n",
    "    for num_obs in [10**i for i in range(2,8)]:\n",
    "        print('obs:', num_obs)\n",
    "        degree = 3\n",
    "        synthetic_data = SyntheticDataset(num_nodes=num_nodes, num_obs=num_obs, node_labels=node_labels, degree=degree)\n",
    "        bge = BGeScore(data=synthetic_data.data)\n",
    "        RUNNING_TIMES[num_nodes][num_obs] = []\n",
    "        for n in range(100):\n",
    "            dag = DAG.generate_random(node_labels)\n",
    "            starttime = time.time()\n",
    "            bge.compute(dag)\n",
    "            endtime = time.time()\n",
    "            RUNNING_TIMES[num_nodes][num_obs].append(endtime-starttime)"
   ]
  },
  {
   "cell_type": "code",
   "execution_count": null,
   "id": "aba5d844",
   "metadata": {},
   "outputs": [],
   "source": []
  }
 ],
 "metadata": {
  "kernelspec": {
   "display_name": "dev",
   "language": "python",
   "name": "python3"
  },
  "language_info": {
   "codemirror_mode": {
    "name": "ipython",
    "version": 3
   },
   "file_extension": ".py",
   "mimetype": "text/x-python",
   "name": "python",
   "nbconvert_exporter": "python",
   "pygments_lexer": "ipython3",
   "version": "3.12.4"
  }
 },
 "nbformat": 4,
 "nbformat_minor": 5
}
