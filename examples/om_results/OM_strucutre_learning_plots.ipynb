{
 "cells": [
  {
   "cell_type": "code",
   "execution_count": 1,
   "metadata": {
    "collapsed": true,
    "ExecuteTime": {
     "end_time": "2024-09-26T01:24:39.105789400Z",
     "start_time": "2024-09-26T01:24:39.025780300Z"
    }
   },
   "outputs": [],
   "source": [
    "# Imports\n",
    "import os\n",
    "import numpy as np\n",
    "import pandas as pd\n",
    "\n",
    "import time\n",
    "import csv\n",
    "\n",
    "import seaborn as sns\n",
    "import matplotlib.pyplot as plt\n",
    "\n",
    "from tkinter import Tk, filedialog"
   ]
  },
  {
   "cell_type": "code",
   "execution_count": 48,
   "outputs": [],
   "source": [
    "def select_file():\n",
    "    root = Tk()\n",
    "    root.withdraw()  # Hide the root window\n",
    "    file_path = filedialog.askopenfilename(\n",
    "        title=\"Select CSV Metadata File\",\n",
    "        filetypes=[(\"CSV files\", \"metadata*.csv\")]\n",
    "    )\n",
    "    return file_path\n",
    "\n",
    "# Request the user to select an Excel file\n",
    "file_path = select_file()\n",
    "\n",
    "directory = os.path.dirname(file_path)"
   ],
   "metadata": {
    "collapsed": false,
    "ExecuteTime": {
     "end_time": "2024-09-26T03:01:22.361487500Z",
     "start_time": "2024-09-26T03:01:04.325203400Z"
    }
   }
  },
  {
   "cell_type": "code",
   "execution_count": 49,
   "outputs": [
    {
     "name": "stdout",
     "output_type": "stream",
     "text": [
      "   Num_experiments  num_nodes  noise_scale score_type MCMC_start_point  \\\n",
      "0               50          5          1.0    ABCMeta           random   \n",
      "\n",
      "   mcmc_iter   graph_type  dag_sparse_degree  \n",
      "0     100000  erdos-renyi                  2  \n"
     ]
    }
   ],
   "source": [
    "metadata_df = pd.read_csv(file_path,header=0)\n",
    "\n",
    "print(metadata_df)"
   ],
   "metadata": {
    "collapsed": false,
    "ExecuteTime": {
     "end_time": "2024-09-26T03:01:24.473033700Z",
     "start_time": "2024-09-26T03:01:24.463159Z"
    }
   }
  },
  {
   "cell_type": "code",
   "execution_count": 50,
   "outputs": [],
   "source": [
    "df_MCMC = pd.read_csv(os.path.join(directory, 'MCMC_KL_results.csv'), index_col=0)\n",
    "df_OM = pd.read_csv(os.path.join(directory, 'OM_KL_results.csv'), index_col=0)\n",
    "df_on_accepted_only = pd.read_csv(os.path.join(directory, 'OM_KL_accepted_only_results.csv'), index_col=0)\n"
   ],
   "metadata": {
    "collapsed": false,
    "ExecuteTime": {
     "end_time": "2024-09-26T03:01:28.621359800Z",
     "start_time": "2024-09-26T03:01:26.777402Z"
    }
   }
  },
  {
   "cell_type": "code",
   "execution_count": null,
   "outputs": [],
   "source": [
    "quantiles = [0.05, 0.95]\n",
    "\n",
    "MCMC_mean = df_MCMC.mean(axis=1)\n",
    "MCMC_std = df_MCMC.std(axis=1)\n",
    "MCMC_quantiles = df_MCMC.apply(lambda row: row.quantile(quantiles), axis=1)\n",
    "\n",
    "OM_mean = df_OM.mean(axis=1)\n",
    "OM_std = df_OM.std(axis=1)\n",
    "OM_quantiles = df_OM.apply(lambda row: row.quantile(quantiles), axis=1)\n",
    "\n",
    "\n",
    "OM_accepted_only_mean = df_on_accepted_only.mean(axis=1)\n",
    "OM_accepted_only_mean_quantiles = df_on_accepted_only.apply(lambda row: row.quantile(quantiles), axis=1)\n"
   ],
   "metadata": {
    "collapsed": false,
    "is_executing": true,
    "ExecuteTime": {
     "start_time": "2024-09-26T03:01:28.623354100Z"
    }
   }
  },
  {
   "cell_type": "code",
   "execution_count": null,
   "outputs": [],
   "source": [
    "import seaborn as sns\n",
    "import matplotlib.pyplot as plt\n",
    "\n",
    "# Ensure your dataframe is available in the environment.\n",
    "# Plot equivalent to plt.plot(df_OM.iloc[:,1])\n",
    "sns.lineplot(data=df_OM.iloc[:, 1])\n",
    "\n",
    "# Clear the existing plot\n",
    "plt.clf()\n",
    "\n",
    "# Create your seaborn plot\n",
    "fig, ax = plt.subplots()\n",
    "\n",
    "# Plot MCMC_mean\n",
    "sns.lineplot(data=MCMC_mean, color='blue', label='MCMC', ax=ax)\n",
    "# Fill between MCMC quantiles\n",
    "ax.fill_between(MCMC_mean.index, MCMC_quantiles[quantiles[0]], MCMC_quantiles[quantiles[1]], color='blue', alpha=0.2)\n",
    "\n",
    "# Plot OM_mean\n",
    "sns.lineplot(data=OM_mean, color='red', label='OM', ax=ax)\n",
    "# Fill between OM quantiles\n",
    "ax.fill_between(OM_mean.index, OM_quantiles[quantiles[0]], OM_quantiles[quantiles[1]], color='red', alpha=0.2)\n",
    "\n",
    "# Plot OM_mean\n",
    "sns.lineplot(data=OM_accepted_only_mean, color='green', label='OM, Accepted only', ax=ax)\n",
    "# Fill between OM quantiles\n",
    "ax.fill_between(df_on_accepted_only.index, OM_accepted_only_mean_quantiles[quantiles[0]], OM_accepted_only_mean_quantiles[quantiles[1]], color='green', alpha=0.2)\n",
    "\n",
    "\n",
    "# Set labels and title\n",
    "#ax.set_xlim(0, metadata_df.loc[0,\"mcmc_iter\"])  # where x_max_value is your desired maximum value for the x-axis\n",
    "ax.set_xlabel('#Iteration')\n",
    "ax.set_ylabel('KL [log scale]')\n",
    "ax.set_yscale('log')\n",
    "#ax.set_xscale('log')\n",
    "\n",
    "# Show legend\n",
    "ax.legend()\n",
    "ax.legend_.remove()\n",
    "\n",
    "# Save the plot\n",
    "plt.savefig(os.path.join(directory, f\"Structure_Learning_Comparison_{int(metadata_df.loc[0,'num_nodes'])}_dag_sparse_degree_{int(metadata_df.loc[0,'dag_sparse_degree'])}.png\"))\n",
    "\n",
    "# Show the plot if needed\n",
    "plt.show()"
   ],
   "metadata": {
    "collapsed": false,
    "is_executing": true
   }
  },
  {
   "cell_type": "code",
   "execution_count": 41,
   "outputs": [],
   "source": [
    "handles, labels = ax.get_legend_handles_labels()\n",
    "\n",
    "\n",
    "fig_legend, ax_legend = plt.subplots(figsize=(4, 0.5))  # Adjust the size as needed\n",
    "\n",
    "# Step 4: Add the legend to the new figure\n",
    "legend = ax_legend.legend(handles, labels, loc='upper center', bbox_to_anchor=(0.5, 1.15), ncol=len(labels))\n",
    "ax_legend.axis(\"off\")\n",
    "plt.tight_layout()\n",
    "\n",
    "# Step 5: Save the figure as a PNG file\n",
    "fig_legend.savefig(\"legend_only.png\", dpi=300, bbox_inches='tight')\n",
    "plt.close(fig_legend)"
   ],
   "metadata": {
    "collapsed": false,
    "ExecuteTime": {
     "end_time": "2024-09-26T02:56:25.283079900Z",
     "start_time": "2024-09-26T02:56:25.218066Z"
    }
   }
  }
 ],
 "metadata": {
  "kernelspec": {
   "display_name": "Python 3",
   "language": "python",
   "name": "python3"
  },
  "language_info": {
   "codemirror_mode": {
    "name": "ipython",
    "version": 2
   },
   "file_extension": ".py",
   "mimetype": "text/x-python",
   "name": "python",
   "nbconvert_exporter": "python",
   "pygments_lexer": "ipython2",
   "version": "2.7.6"
  }
 },
 "nbformat": 4,
 "nbformat_minor": 0
}
