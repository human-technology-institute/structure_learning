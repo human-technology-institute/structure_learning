{
 "cells": [
  {
   "cell_type": "code",
   "execution_count": 4,
   "id": "4d9e6641-b2d9-4500-b965-72a32e61d439",
   "metadata": {},
   "outputs": [],
   "source": [
    "import numpy as np\n",
    "from mcmc.mcmc import StructureMCMC\n",
    "from mcmc.data import SyntheticDataset\n",
    "from mcmc.proposals import GraphProposal\n",
    "from mcmc.scores import BGeScore\n",
    "\n",
    "# for reproducibility\n",
    "np.random.seed(46)"
   ]
  },
  {
   "cell_type": "code",
   "execution_count": 14,
   "id": "88aaa4c0-5cef-43c9-aa9b-5d567f2e9ba4",
   "metadata": {},
   "outputs": [],
   "source": [
    "# setup synthetic data\n",
    "\n",
    "num_nodes = 4\n",
    "node_labels = [chr(ord('a') + i) for i in range(num_nodes)]\n",
    "num_obs = 200\n",
    "degree = 2\n",
    "\n",
    "synthetic_data = SyntheticDataset(num_nodes=num_nodes, num_obs=num_obs, node_labels=node_labels, degree=degree)"
   ]
  },
  {
   "cell_type": "code",
   "execution_count": 21,
   "id": "887639cb-e1a7-4928-9610-5f0f45cca390",
   "metadata": {},
   "outputs": [
    {
     "data": {
      "image/png": "[encoded data removed]",
      "text/plain": [
       "<Figure size 500x300 with 1 Axes>"
      ]
     },
     "metadata": {},
     "output_type": "display_data"
    }
   ],
   "source": [
    "# visualise ground truth DAG\n",
    "from mcmc.utils.graph_utils import plot_graph_from_adj_mat\n",
    "plot_graph_from_adj_mat(synthetic_data.adj_mat.values, node_labels, title=\"Ground Truth DAG\")"
   ]
  },
  {
   "cell_type": "code",
   "execution_count": 22,
   "id": "2f8ba2d9-addb-40e4-8811-8c55a2b91bc7",
   "metadata": {},
   "outputs": [
    {
     "data": {
      "text/html": [
       "<div>\n",
       "<style scoped>\n",
       "    .dataframe tbody tr th:only-of-type {\n",
       "        vertical-align: middle;\n",
       "    }\n",
       "\n",
       "    .dataframe tbody tr th {\n",
       "        vertical-align: top;\n",
       "    }\n",
       "\n",
       "    .dataframe thead th {\n",
       "        text-align: right;\n",
       "    }\n",
       "</style>\n",
       "<table border=\"1\" class=\"dataframe\">\n",
       "  <thead>\n",
       "    <tr style=\"text-align: right;\">\n",
       "      <th></th>\n",
       "      <th>a</th>\n",
       "      <th>b</th>\n",
       "      <th>c</th>\n",
       "      <th>d</th>\n",
       "    </tr>\n",
       "  </thead>\n",
       "  <tbody>\n",
       "    <tr>\n",
       "      <th>0</th>\n",
       "      <td>3.114615</td>\n",
       "      <td>6.145658</td>\n",
       "      <td>-13.957488</td>\n",
       "      <td>-22.727403</td>\n",
       "    </tr>\n",
       "    <tr>\n",
       "      <th>1</th>\n",
       "      <td>-0.477092</td>\n",
       "      <td>-2.386086</td>\n",
       "      <td>6.373927</td>\n",
       "      <td>7.445316</td>\n",
       "    </tr>\n",
       "    <tr>\n",
       "      <th>2</th>\n",
       "      <td>-0.741519</td>\n",
       "      <td>-2.505112</td>\n",
       "      <td>6.641514</td>\n",
       "      <td>9.848579</td>\n",
       "    </tr>\n",
       "    <tr>\n",
       "      <th>3</th>\n",
       "      <td>-1.452361</td>\n",
       "      <td>-2.562321</td>\n",
       "      <td>5.677607</td>\n",
       "      <td>9.652684</td>\n",
       "    </tr>\n",
       "    <tr>\n",
       "      <th>4</th>\n",
       "      <td>-0.327210</td>\n",
       "      <td>-1.925537</td>\n",
       "      <td>4.189944</td>\n",
       "      <td>7.199165</td>\n",
       "    </tr>\n",
       "    <tr>\n",
       "      <th>...</th>\n",
       "      <td>...</td>\n",
       "      <td>...</td>\n",
       "      <td>...</td>\n",
       "      <td>...</td>\n",
       "    </tr>\n",
       "    <tr>\n",
       "      <th>195</th>\n",
       "      <td>-0.412729</td>\n",
       "      <td>-2.701372</td>\n",
       "      <td>8.456166</td>\n",
       "      <td>10.912477</td>\n",
       "    </tr>\n",
       "    <tr>\n",
       "      <th>196</th>\n",
       "      <td>-0.367259</td>\n",
       "      <td>-0.611558</td>\n",
       "      <td>0.607488</td>\n",
       "      <td>0.546532</td>\n",
       "    </tr>\n",
       "    <tr>\n",
       "      <th>197</th>\n",
       "      <td>-1.301451</td>\n",
       "      <td>-1.493103</td>\n",
       "      <td>4.128818</td>\n",
       "      <td>9.412993</td>\n",
       "    </tr>\n",
       "    <tr>\n",
       "      <th>198</th>\n",
       "      <td>1.424285</td>\n",
       "      <td>4.380491</td>\n",
       "      <td>-9.160979</td>\n",
       "      <td>-13.489298</td>\n",
       "    </tr>\n",
       "    <tr>\n",
       "      <th>199</th>\n",
       "      <td>-1.612432</td>\n",
       "      <td>-4.540840</td>\n",
       "      <td>9.418796</td>\n",
       "      <td>16.199975</td>\n",
       "    </tr>\n",
       "  </tbody>\n",
       "</table>\n",
       "<p>200 rows × 4 columns</p>\n",
       "</div>"
      ],
      "text/plain": [
       "            a         b          c          d\n",
       "0    3.114615  6.145658 -13.957488 -22.727403\n",
       "1   -0.477092 -2.386086   6.373927   7.445316\n",
       "2   -0.741519 -2.505112   6.641514   9.848579\n",
       "3   -1.452361 -2.562321   5.677607   9.652684\n",
       "4   -0.327210 -1.925537   4.189944   7.199165\n",
       "..        ...       ...        ...        ...\n",
       "195 -0.412729 -2.701372   8.456166  10.912477\n",
       "196 -0.367259 -0.611558   0.607488   0.546532\n",
       "197 -1.301451 -1.493103   4.128818   9.412993\n",
       "198  1.424285  4.380491  -9.160979 -13.489298\n",
       "199 -1.612432 -4.540840   9.418796  16.199975\n",
       "\n",
       "[200 rows x 4 columns]"
      ]
     },
     "execution_count": 22,
     "metadata": {},
     "output_type": "execute_result"
    }
   ],
   "source": [
    "synthetic_data.data"
   ]
  },
  {
   "cell_type": "code",
   "execution_count": 23,
   "id": "98e55791-43e5-4958-91f3-f63f4d81f8da",
   "metadata": {},
   "outputs": [],
   "source": [
    "# setup random initial graph\n",
    "\n",
    "initial_graph = np.random.choice([0,1], size=(num_nodes, num_nodes))*np.tri(num_nodes, num_nodes, -1)\n",
    "p = np.random.permutation(num_nodes)\n",
    "# shuffle\n",
    "initial_graph = initial_graph[p, :]\n",
    "initial_graph = initial_graph[:, p]"
   ]
  },
  {
   "cell_type": "code",
   "execution_count": 24,
   "id": "7211c8cc-5a39-4cd5-9ecd-33a472956b81",
   "metadata": {},
   "outputs": [],
   "source": [
    "# setup mcmc\n",
    "\n",
    "n_iterations = 100000\n",
    "score = BGeScore(synthetic_data.data, initial_graph)\n",
    "proposal = GraphProposal(initial_graph)\n",
    "M = StructureMCMC(initial_graph, n_iterations, proposal, score)"
   ]
  },
  {
   "cell_type": "code",
   "execution_count": 25,
   "id": "56162d54-6bb0-4d5e-9053-47c0cb0c1ddf",
   "metadata": {},
   "outputs": [
    {
     "name": "stdout",
     "output_type": "stream",
     "text": [
      "Acceptance_ratio: 0.1846\n"
     ]
    }
   ],
   "source": [
    "# run experiment\n",
    "\n",
    "mcmc_results, acceptance = M.run()\n",
    "graphs = M.get_mcmc_res_graphs(mcmc_results)\n",
    "print('Acceptance_ratio:', acceptance)"
   ]
  },
  {
   "cell_type": "code",
   "execution_count": 27,
   "id": "653a0318-9169-4e51-8829-f893275287c9",
   "metadata": {},
   "outputs": [
    {
     "name": "stdout",
     "output_type": "stream",
     "text": [
      "True\n"
     ]
    }
   ],
   "source": [
    "from mcmc.utils.graph_utils import generate_key_from_adj_matrix\n",
    "\n",
    "graphs = M.get_mcmc_res_graphs(mcmc_results)\n",
    "\n",
    "key = generate_key_from_adj_matrix(synthetic_data.adj_mat.values)\n",
    "keys, counts = np.unique([generate_key_from_adj_matrix(g) for g in graphs], return_counts=True)\n",
    "print(key in keys)"
   ]
  },
  {
   "cell_type": "code",
   "execution_count": 46,
   "id": "216c59d2-cd7d-4f00-8224-91b5b0a87518",
   "metadata": {},
   "outputs": [
    {
     "name": "stdout",
     "output_type": "stream",
     "text": [
      "35\n"
     ]
    },
    {
     "data": {
      "image/png": "[encoded data removed]",
      "text/plain": [
       "<Figure size 640x480 with 1 Axes>"
      ]
     },
     "metadata": {},
     "output_type": "display_data"
    }
   ],
   "source": [
    "from matplotlib import pyplot as plt\n",
    "\n",
    "bars = plt.bar(range(len(keys)), counts/len(graphs))\n",
    "plt.xticks(range(len(keys)), keys, rotation=90);\n",
    "bars[np.where(keys==key)[0][0]].set_color('red')"
   ]
  }
 ],
 "metadata": {
  "kernelspec": {
   "display_name": "Python 3 (ipykernel)",
   "language": "python",
   "name": "python3"
  },
  "language_info": {
   "codemirror_mode": {
    "name": "ipython",
    "version": 3
   },
   "file_extension": ".py",
   "mimetype": "text/x-python",
   "name": "python",
   "nbconvert_exporter": "python",
   "pygments_lexer": "ipython3",
   "version": "3.12.4"
  }
 },
 "nbformat": 4,
 "nbformat_minor": 5
}
