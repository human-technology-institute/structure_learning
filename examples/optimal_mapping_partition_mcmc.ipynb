{
 "cells": [
  {
   "cell_type": "markdown",
   "source": [
    "# Optimal mapping - comparison with MCMC\n",
    "\n",
    "Comparison of KL vs.:\n",
    "1. Numner of iteration/run time\n",
    "2. Number of unique states\n",
    "\n",
    "# TODO:\n",
    "1. Structure MCMC\n",
    "2. Order MCMC\n",
    "3. Partition MCMC\n",
    "4. Compare with ground truth\n",
    "\n"
   ],
   "metadata": {
    "collapsed": false
   }
  },
  {
   "cell_type": "code",
   "execution_count": 1,
   "outputs": [],
   "source": [
    "# Imports\n",
    "import os\n",
    "import datetime\n",
    "import numpy as np\n",
    "\n",
    "from mcmc.scores.bge import BGeScore\n",
    "from mcmc.proposals.graph.graph_proposal import GraphProposal\n",
    "from mcmc.data.synthetic import SyntheticDataset\n",
    "\n",
    "from mcmc.mcmc.partition_mcmc import PartitionMCMC\n",
    "\n",
    "import pickle\n",
    "\n",
    "import pandas as pd\n",
    "\n",
    "from mcmc.inference.posterior import *\n",
    "\n",
    "import time\n",
    "import csv\n",
    "\n",
    "from tqdm.notebook import trange\n",
    "\n",
    "\n"
   ],
   "metadata": {
    "collapsed": false,
    "ExecuteTime": {
     "end_time": "2024-10-07T11:34:33.821804900Z",
     "start_time": "2024-10-07T11:34:24.736197700Z"
    }
   }
  },
  {
   "cell_type": "code",
   "execution_count": 2,
   "outputs": [],
   "source": [
    "num_nodes = 5\n",
    "node_labels = [f\"X{i + 1}\" for i in range(num_nodes)]\n",
    "degree = 2  # erdos-renyi sparsity - equivalent to 0.75\n",
    "noise_scale = 0.5\n"
   ],
   "metadata": {
    "collapsed": false,
    "ExecuteTime": {
     "end_time": "2024-09-27T06:45:24.418639500Z",
     "start_time": "2024-09-27T06:45:24.400656200Z"
    }
   }
  },
  {
   "cell_type": "code",
   "execution_count": 4,
   "outputs": [],
   "source": [
    "def genarate_DAG(n: int, p: float, random_seed: int = None):\n",
    "\n",
    "    if random_seed is not None:\n",
    "        np.random.seed(random_seed)\n",
    "\n",
    "    adjmat = np.zeros((n, n))\n",
    "    adjmat[np.tril_indices_from(adjmat, k=-1)] = np.random.binomial(1, p, size=int(n * (n - 1) / 2))\n",
    "    return adjmat"
   ],
   "metadata": {
    "collapsed": false,
    "ExecuteTime": {
     "end_time": "2024-09-27T06:45:33.631744Z",
     "start_time": "2024-09-27T06:45:33.622745600Z"
    }
   }
  },
  {
   "cell_type": "code",
   "execution_count": 5,
   "outputs": [
    {
     "name": "stdout",
     "output_type": "stream",
     "text": [
      "[[0. 0. 0. 0. 0.]\n",
      " [0. 0. 0. 0. 0.]\n",
      " [1. 1. 0. 0. 0.]\n",
      " [1. 1. 0. 0. 0.]\n",
      " [1. 0. 1. 0. 0.]]\n",
      "Is a dag? True\n"
     ]
    }
   ],
   "source": [
    "true_dag = genarate_DAG(num_nodes, p=0.5)\n",
    "print(true_dag)\n",
    "\n",
    "print(f\"Is a dag? {not (has_cycle(true_dag))}\")"
   ],
   "metadata": {
    "collapsed": false,
    "ExecuteTime": {
     "end_time": "2024-09-27T06:45:35.016342600Z",
     "start_time": "2024-09-27T06:45:35.002315100Z"
    }
   }
  },
  {
   "cell_type": "markdown",
   "source": [
    "# Generate data"
   ],
   "metadata": {
    "collapsed": false
   }
  },
  {
   "cell_type": "code",
   "execution_count": 6,
   "outputs": [],
   "source": [
    "num_obsv = 200\n",
    "sdj = SyntheticDataset(num_nodes, num_obsv, node_labels, degree, noise_scale=noise_scale)\n",
    "\n",
    "true_dag = sdj.simulate_random_dag(num_nodes, degree, \"erdos-renyi\", sdj.w_range)\n",
    "\n",
    "\n",
    "data = sdj.data\n",
    "\n",
    "data.to_csv(\"./temp.csv\", index=False)"
   ],
   "metadata": {
    "collapsed": false,
    "ExecuteTime": {
     "end_time": "2024-09-27T06:45:37.157497300Z",
     "start_time": "2024-09-27T06:45:37.125738200Z"
    }
   }
  },
  {
   "cell_type": "code",
   "execution_count": 7,
   "outputs": [
    {
     "data": {
      "text/plain": "   X1  X2  X3  X4  X5\n0   0   0   0   0   1\n1   0   0   0   0   1\n2   0   0   0   0   0\n3   1   0   1   0   0\n4   0   0   1   0   0",
      "text/html": "<div>\n<style scoped>\n    .dataframe tbody tr th:only-of-type {\n        vertical-align: middle;\n    }\n\n    .dataframe tbody tr th {\n        vertical-align: top;\n    }\n\n    .dataframe thead th {\n        text-align: right;\n    }\n</style>\n<table border=\"1\" class=\"dataframe\">\n  <thead>\n    <tr style=\"text-align: right;\">\n      <th></th>\n      <th>X1</th>\n      <th>X2</th>\n      <th>X3</th>\n      <th>X4</th>\n      <th>X5</th>\n    </tr>\n  </thead>\n  <tbody>\n    <tr>\n      <th>0</th>\n      <td>0</td>\n      <td>0</td>\n      <td>0</td>\n      <td>0</td>\n      <td>1</td>\n    </tr>\n    <tr>\n      <th>1</th>\n      <td>0</td>\n      <td>0</td>\n      <td>0</td>\n      <td>0</td>\n      <td>1</td>\n    </tr>\n    <tr>\n      <th>2</th>\n      <td>0</td>\n      <td>0</td>\n      <td>0</td>\n      <td>0</td>\n      <td>0</td>\n    </tr>\n    <tr>\n      <th>3</th>\n      <td>1</td>\n      <td>0</td>\n      <td>1</td>\n      <td>0</td>\n      <td>0</td>\n    </tr>\n    <tr>\n      <th>4</th>\n      <td>0</td>\n      <td>0</td>\n      <td>1</td>\n      <td>0</td>\n      <td>0</td>\n    </tr>\n  </tbody>\n</table>\n</div>"
     },
     "execution_count": 7,
     "metadata": {},
     "output_type": "execute_result"
    }
   ],
   "source": [
    "sdj.adj_mat"
   ],
   "metadata": {
    "collapsed": false,
    "ExecuteTime": {
     "end_time": "2024-09-27T06:45:39.601061Z",
     "start_time": "2024-09-27T06:45:39.562875200Z"
    }
   }
  },
  {
   "cell_type": "code",
   "execution_count": 8,
   "outputs": [],
   "source": [
    "data = pd.read_csv(\"./temp.csv\")\n",
    "\n",
    "node_labels = list(data.columns)"
   ],
   "metadata": {
    "collapsed": false,
    "ExecuteTime": {
     "end_time": "2024-09-27T06:45:41.371321700Z",
     "start_time": "2024-09-27T06:45:41.324009100Z"
    }
   }
  },
  {
   "cell_type": "code",
   "execution_count": 9,
   "outputs": [
    {
     "name": "stdout",
     "output_type": "stream",
     "text": [
      "Is initial_graph a dag? True\n",
      "[[0. 0. 0. 0. 0.]\n",
      " [0. 0. 0. 0. 0.]\n",
      " [1. 1. 0. 0. 0.]\n",
      " [0. 1. 1. 0. 0.]\n",
      " [0. 1. 1. 0. 0.]]\n"
     ]
    }
   ],
   "source": [
    "initial_graph = genarate_DAG(num_nodes, p=0.5)\n",
    "print(f\"Is initial_graph a dag? {not (has_cycle(initial_graph))}\")\n",
    "\n",
    "print(initial_graph)\n"
   ],
   "metadata": {
    "collapsed": false,
    "ExecuteTime": {
     "end_time": "2024-09-27T06:45:42.566757600Z",
     "start_time": "2024-09-27T06:45:42.541766500Z"
    }
   }
  },
  {
   "cell_type": "code",
   "execution_count": 10,
   "outputs": [
    {
     "name": "stdout",
     "output_type": "stream",
     "text": [
      "Total 5 node DAGs generated = 29281\n"
     ]
    }
   ],
   "source": [
    "# Calc ground truth\n",
    "\n",
    "all_dags = generate_all_dags(data, BGeScore, gen_augmented_priors=False)\n",
    "true_distr = compute_true_distribution(all_dags, with_aug_prior=False)"
   ],
   "metadata": {
    "collapsed": false,
    "ExecuteTime": {
     "end_time": "2024-09-27T06:46:40.291921600Z",
     "start_time": "2024-09-27T06:45:44.432049200Z"
    }
   }
  },
  {
   "cell_type": "markdown",
   "source": [
    "# Partition MCMC"
   ],
   "metadata": {
    "collapsed": false
   }
  },
  {
   "cell_type": "code",
   "execution_count": 11,
   "outputs": [],
   "source": [
    "score_object = BGeScore(data=data, incidence=initial_graph)"
   ],
   "metadata": {
    "collapsed": false,
    "ExecuteTime": {
     "end_time": "2024-09-27T06:46:40.295928400Z",
     "start_time": "2024-09-27T06:46:40.291921600Z"
    }
   }
  },
  {
   "cell_type": "code",
   "execution_count": 12,
   "outputs": [
    {
     "name": "stdout",
     "output_type": "stream",
     "text": [
      "Starting MCMC...\n",
      "Running PC algorithm\n"
     ]
    }
   ],
   "source": [
    "max_iter = 1000\n",
    "pi = 0.1\n",
    "print(\"Starting MCMC...\")\n",
    "start = time.time()\n",
    "mcmc_obj = PartitionMCMC(max_iter=10000, data=sdj.data, score_object='bge')\n",
    "\n",
    "mcmc_res, accept_rate = mcmc_obj.run()"
   ],
   "metadata": {
    "collapsed": false,
    "ExecuteTime": {
     "end_time": "2024-09-27T06:46:48.762652200Z",
     "start_time": "2024-09-27T06:46:40.296929800Z"
    }
   }
  },
  {
   "cell_type": "code",
   "execution_count": 13,
   "outputs": [],
   "source": [
    "graph_list = mcmc_obj.get_mcmc_res_graphs(mcmc_res)"
   ],
   "metadata": {
    "collapsed": false,
    "ExecuteTime": {
     "end_time": "2024-09-27T06:46:48.768157900Z",
     "start_time": "2024-09-27T06:46:48.763653900Z"
    }
   }
  },
  {
   "cell_type": "code",
   "execution_count": 18,
   "outputs": [],
   "source": [],
   "metadata": {
    "collapsed": false,
    "ExecuteTime": {
     "end_time": "2024-09-27T05:51:42.313616300Z",
     "start_time": "2024-09-27T05:51:42.303867800Z"
    }
   }
  },
  {
   "cell_type": "code",
   "execution_count": 15,
   "outputs": [
    {
     "name": "stdout",
     "output_type": "stream",
     "text": [
      "00001 00101 00001 10101 00000\n"
     ]
    }
   ],
   "source": [
    "ddd = generate_key_from_adj_matrix(graph_list[1])\n",
    "\n",
    "print(ddd)"
   ],
   "metadata": {
    "collapsed": false,
    "ExecuteTime": {
     "end_time": "2024-09-27T06:47:30.809986800Z",
     "start_time": "2024-09-27T06:47:30.801982300Z"
    }
   }
  },
  {
   "cell_type": "code",
   "execution_count": 16,
   "outputs": [
    {
     "data": {
      "text/plain": "1.3869601310646964e-43"
     },
     "execution_count": 16,
     "metadata": {},
     "output_type": "execute_result"
    }
   ],
   "source": [
    "true_distr[ddd]"
   ],
   "metadata": {
    "collapsed": false,
    "ExecuteTime": {
     "end_time": "2024-09-27T06:47:31.830004900Z",
     "start_time": "2024-09-27T06:47:31.826494200Z"
    }
   }
  },
  {
   "cell_type": "code",
   "execution_count": 17,
   "outputs": [
    {
     "name": "stdout",
     "output_type": "stream",
     "text": [
      "1.3869601310646964e-43\n"
     ]
    }
   ],
   "source": [
    "print(true_distr[generate_key_from_adj_matrix(mcmc_res[0]['graph'])])\n"
   ],
   "metadata": {
    "collapsed": false,
    "ExecuteTime": {
     "end_time": "2024-09-27T06:47:32.654038200Z",
     "start_time": "2024-09-27T06:47:32.650036100Z"
    }
   }
  },
  {
   "cell_type": "code",
   "execution_count": 18,
   "outputs": [
    {
     "data": {
      "text/plain": "{'graph': array([[0., 1., 0., 0., 0.],\n        [0., 0., 0., 0., 0.],\n        [0., 0., 0., 1., 1.],\n        [1., 0., 0., 0., 0.],\n        [1., 1., 0., 1., 0.]]),\n 'partition': <mcmc.data_structures.partition.OrderedPartition at 0x22bd88b5af0>,\n 'party': [1, 1, 1, 1, 1],\n 'permy': ['X3', 'X5', 'X4', 'X1', 'X2'],\n 'posy': [0, 1, 2, 3, 4],\n 'P_prop': <mcmc.data_structures.partition.OrderedPartition at 0x22bd88b5af0>,\n 'G_prop': array([[0., 1., 0., 0., 0.],\n        [0., 0., 0., 0., 0.],\n        [0., 0., 0., 1., 1.],\n        [1., 0., 0., 0., 0.],\n        [1., 1., 0., 1., 0.]]),\n 'G_score_curr': {'score': -1095.1639138614269,\n  'parameters': {'X1': {'score': -173.2259402699379, 'parents': [3, 4]},\n   'X2': {'score': -89.70455541552587, 'parents': [0, 4]},\n   'X3': {'score': -634.2179293107499, 'parents': []},\n   'X4': {'score': -93.18504768215547, 'parents': [2, 4]},\n   'X5': {'score': -104.83044118305777, 'parents': [2]}}},\n 'G_score_prop': {'score': -1095.1639138614269,\n  'parameters': {'X1': {'score': -173.2259402699379, 'parents': [3, 4]},\n   'X2': {'score': -89.70455541552587, 'parents': [0, 4]},\n   'X3': {'score': -634.2179293107499, 'parents': []},\n   'X4': {'score': -93.18504768215547, 'parents': [2, 4]},\n   'X5': {'score': -104.83044118305777, 'parents': [2]}}},\n 'operation': 'move_node_to_new_partition',\n 'accepted': 1,\n 'score_P_curr': -1094.2656852724358,\n 'score_P_prop': -1094.2656852724358,\n 'acceptance_prob': -9.094947017729282e-13}"
     },
     "execution_count": 18,
     "metadata": {},
     "output_type": "execute_result"
    }
   ],
   "source": [
    "mcmc_res[65]"
   ],
   "metadata": {
    "collapsed": false,
    "ExecuteTime": {
     "end_time": "2024-09-27T06:47:33.658220200Z",
     "start_time": "2024-09-27T06:47:33.651558Z"
    }
   }
  },
  {
   "cell_type": "code",
   "execution_count": 19,
   "outputs": [],
   "source": [
    "def KL_MCMC(MCMC_dict, true_dist, n):\n",
    "    \"\"\"\n",
    "    MCMC_dict: Dictionary with the visited graph and counts\n",
    "    true_dist: the true distribution\n",
    "    n: number of iterates\n",
    "    \"\"\"\n",
    "\n",
    "    KL = 0\n",
    "    for k, mcmc_count in MCMC_dict.items():\n",
    "        p_approx = mcmc_count / n\n",
    "        KL += p_approx * np.log(p_approx / true_dist[k])\n",
    "    return KL\n"
   ],
   "metadata": {
    "collapsed": false,
    "ExecuteTime": {
     "end_time": "2024-09-27T06:47:34.462735300Z",
     "start_time": "2024-09-27T06:47:34.452227200Z"
    }
   }
  },
  {
   "cell_type": "code",
   "execution_count": 20,
   "outputs": [],
   "source": [
    "def KL_OM(unique_graphs, unique_scores, true_dist):\n",
    "    \"\"\"\n",
    "    unique_graphs: A list with the visited graph\n",
    "    unique_scores: A list with scores of visited graph\n",
    "    true_dist: the true distribution\n",
    "    \"\"\"\n",
    "\n",
    "    KL = 0\n",
    "\n",
    "    # Prevents overflow during exponentiation by substracting\n",
    "    max_score = max(unique_scores)\n",
    "\n",
    "    p_approx_vec = np.asarray(unique_scores) - max_score\n",
    "    p_approx_vec = np.exp(p_approx_vec)\n",
    "    p_approx_vec /= np.sum(p_approx_vec)\n",
    "\n",
    "    for k, p_approx in zip(unique_graphs, p_approx_vec):\n",
    "        KL += p_approx * np.log(p_approx / true_dist[k])\n",
    "\n",
    "    return KL\n",
    "\n",
    "\n",
    "\n"
   ],
   "metadata": {
    "collapsed": false,
    "ExecuteTime": {
     "end_time": "2024-09-27T06:47:34.933999200Z",
     "start_time": "2024-09-27T06:47:34.918284400Z"
    }
   }
  },
  {
   "cell_type": "code",
   "execution_count": 21,
   "outputs": [],
   "source": [
    "\n",
    "def KL_comparison_OM_MCMC(mcmc_results, ground_truth_distribution):\n",
    "    graph_mcmc_count = {}\n",
    "    unique_graph_id = []  # needed to handle overflow/underflow in computing normalization factor\n",
    "    unique_accepted_graph_id = []  # accepted only\n",
    "    unique_scores = []  # needed to handle overflows\n",
    "    unique_accepted_scores = []  # needed to handle overflows\n",
    "\n",
    "\n",
    "    KL_MCMC_t = []\n",
    "    KL_OM_t = []\n",
    "    KL_OM_accepted_only_t = []\n",
    "\n",
    "    max_mcmc_iter = len(mcmc_results)\n",
    "    for i in range(max_mcmc_iter):\n",
    "        res = mcmc_results[i]\n",
    "        if \"G_prop\" in res.keys() and res['G_prop'] is not None:\n",
    "            graph_prop = generate_key_from_adj_matrix(res['G_prop'])\n",
    "            score_prop = res['G_score_prop']['score']\n",
    "        else:\n",
    "            graph_prop = None\n",
    "\n",
    "\n",
    "        graph_id = generate_key_from_adj_matrix(res['graph']) # Accepted graph/state\n",
    "        score = res['G_score_curr']['score'] # Accepted score\n",
    "        # Score is log of the true score\n",
    "\n",
    "        graph_mcmc_count[graph_id] = graph_mcmc_count[graph_id] +1 if graph_id in graph_mcmc_count else 1\n",
    "\n",
    "        # OM update\n",
    "        if not(graph_id in unique_graph_id):\n",
    "            # When a proposal is accepted and was never added before\n",
    "            unique_graph_id.append(graph_id)\n",
    "            unique_scores.append(score)\n",
    "        elif graph_prop is not None and not(graph_prop in unique_graph_id):\n",
    "            # Looking at proposal\n",
    "            unique_graph_id.append(graph_prop)\n",
    "            unique_scores.append(score_prop)\n",
    "\n",
    "        # OM update - accepted graphs\n",
    "        if not(graph_id in unique_accepted_graph_id):\n",
    "            # When a proposal is accepted and was never added before\n",
    "            unique_accepted_graph_id.append(graph_id)\n",
    "            unique_accepted_scores.append(score)\n",
    "\n",
    "\n",
    "        KL_OM_t.append(KL_OM(unique_graph_id, unique_scores, ground_truth_distribution))\n",
    "        KL_OM_accepted_only_t.append(KL_OM(unique_accepted_graph_id, unique_accepted_scores, ground_truth_distribution))\n",
    "        KL_MCMC_t.append(KL_MCMC(graph_mcmc_count, ground_truth_distribution, i + 1))\n",
    "\n",
    "        # print(f\"{len(unique_accepted_graph_id)} - {len(unique_accepted_graph_id)}\")\n",
    "\n",
    "    return KL_MCMC_t, KL_OM_t, KL_OM_accepted_only_t\n",
    "\n",
    "\n",
    "\n",
    "\n"
   ],
   "metadata": {
    "collapsed": false,
    "ExecuteTime": {
     "end_time": "2024-09-27T06:47:35.621099300Z",
     "start_time": "2024-09-27T06:47:35.610302600Z"
    }
   }
  },
  {
   "cell_type": "code",
   "execution_count": 22,
   "outputs": [
    {
     "data": {
      "text/plain": "Text(0, 0.5, '$KL$')"
     },
     "execution_count": 22,
     "metadata": {},
     "output_type": "execute_result"
    },
    {
     "data": {
      "text/plain": "<Figure size 640x480 with 1 Axes>",
      "image/png": "[encoded data removed]"
     },
     "metadata": {},
     "output_type": "display_data"
    }
   ],
   "source": [
    "import matplotlib.pyplot as plt\n",
    "\n",
    "\n",
    "KL_MCMC_res, KL_OM_res, KL_OM_accepted_res = KL_comparison_OM_MCMC(mcmc_res, true_distr)\n",
    "\n",
    "plt.semilogy([i for i in range(len(mcmc_res))], KL_MCMC_res, label='MCMC')\n",
    "plt.semilogy([i for i in range(len(mcmc_res))], KL_OM_res, label='OM')\n",
    "plt.semilogy([i for i in range(len(mcmc_res))], KL_OM_accepted_res, label='OM - accepted only')\n",
    "plt.legend()\n",
    "plt.xlabel(\"#Iteration\")\n",
    "plt.ylabel(r\"$KL$\")\n"
   ],
   "metadata": {
    "collapsed": false,
    "ExecuteTime": {
     "end_time": "2024-09-27T06:47:42.117820700Z",
     "start_time": "2024-09-27T06:47:36.325290300Z"
    }
   }
  },
  {
   "cell_type": "code",
   "execution_count": null,
   "outputs": [],
   "source": [
    "plt.semilogy([i for i in range(len(mcmc_res))], np.asarray(KL_MCMC_res) - np.asarray(KL_OM_res),\n",
    "             label=r\"$KL_{MCMC} - KL_{OM}$\")\n",
    "plt.xlabel(\"#Iteration\")\n",
    "plt.ylabel(r\"$KL_{MCMC} - KL_{OM}$\")\n"
   ],
   "metadata": {
    "collapsed": false
   }
  },
  {
   "cell_type": "code",
   "execution_count": null,
   "outputs": [],
   "source": [
    "n_exp = 10\n",
    "num_nodes = 5\n",
    "node_labels = [f\"X{i + 1}\" for i in range(num_nodes)]\n",
    "noise_scale = 1.\n",
    "score_type = BGeScore\n",
    "mcmc_iter = 100000\n",
    "degree = 1  # erdos-renyi sparsity - equivalent to 0.75\n",
    "num_obsv = 200\n",
    "graph_type =\"erdos-renyi\"\n",
    "\n",
    "DIRPATH = os.path.abspath(\"\")\n",
    "MAINRESPATH = os.path.join(DIRPATH, 'om_results')\n",
    "os.makedirs(MAINRESPATH, exist_ok=True)\n",
    "\n",
    "RESPATH = os.path.join(MAINRESPATH, datetime.datetime.now().strftime('%Y-%m-%d_%H-%M-%S'))\n",
    "os.makedirs(RESPATH, exist_ok=True)\n",
    "\n",
    "# Save metadata\n",
    "metadata_dict = {\"Num_experiments\": n_exp,\n",
    "                 \"num_nodes\": num_nodes,\n",
    "                 \"noise_scale\": noise_scale,\n",
    "                 \"score_type\": type(score_type).__name__,\n",
    "                 \"MCMC_start_point\": 'random',\n",
    "                 \"mcmc_iter\": mcmc_iter,\n",
    "                 \"graph_type\": graph_type,\n",
    "                 \"dag_sparse_degree\": degree\n",
    "                 }\n",
    "\n",
    "MCMC_results_dict = {}\n",
    "OM_results_dict = {}\n",
    "OM_accepted_results_dict = {}\n",
    "\n",
    "with open(os.path.join(RESPATH, 'metadata.csv'), 'w', newline=\"\") as csvfile:\n",
    "    w = csv.DictWriter(csvfile, metadata_dict.keys())\n",
    "    w.writeheader()\n",
    "    w.writerow(metadata_dict)\n",
    "\n",
    "t = trange(n_exp, desc='Bar desc', leave=True)\n",
    "for exp_i in t:\n",
    "    print(f\"Experiment: {exp_i}\")\n",
    "    # Generate true dag\n",
    "    t.set_description(\"%i: Generate true DAG\" % exp_i)\n",
    "    t.refresh()\n",
    "    time.sleep(0.01)\n",
    "    print(f\"{exp_i}: Generate true DAG\")\n",
    "\n",
    "    sdj = SyntheticDataset(num_nodes=num_nodes, num_obs=num_obsv, node_labels=node_labels, degree=degree, noise_scale=noise_scale, graph_type=graph_type)\n",
    "    metadata_dict[\"w_range\"] =  sdj.w_range\n",
    "\n",
    "\n",
    "    true_dag = sdj.adj_mat.values\n",
    "    print(true_dag)\n",
    "\n",
    "    # save dag to file\n",
    "    np.savetxt(os.path.join(RESPATH, f\"true_DAG_{exp_i}.csv\"), true_dag, delimiter=',', fmt='%d')\n",
    "\n",
    "    assert not (has_cycle(true_dag)), \"not a DAG\"\n",
    "\n",
    "    # Generate data based on the true DAG\n",
    "    t.set_description(\"%i: Generate data\" % exp_i)\n",
    "    t.refresh()\n",
    "    time.sleep(0.01)\n",
    "    print(f\"{exp_i}: Generate data\")\n",
    "\n",
    "\n",
    "    data = sdj.data\n",
    "    # save data to file\n",
    "    np.savetxt(os.path.join(RESPATH, f\"data_{exp_i}.csv\"), data, delimiter=',')\n",
    "\n",
    "    # Ground truth distribution\n",
    "    t.set_description(\"%i: Generate ground truth\" % exp_i)\n",
    "    t.refresh()\n",
    "    time.sleep(0.01)\n",
    "    print(f\"{exp_i}: Generate ground truth\")\n",
    "    all_dags = generate_all_dags(data, score_type, gen_augmented_priors=False)\n",
    "    true_distr = compute_true_distribution(all_dags, with_aug_prior=False)\n",
    "\n",
    "    # MCMC\n",
    "    t.set_description(\"%i: MCMC\" % exp_i)\n",
    "    t.refresh()\n",
    "    time.sleep(0.5)\n",
    "    print(f\"{exp_i}: MCMC\")\n",
    "    if metadata_dict['MCMC_start_point'] == 'random':\n",
    "        #static function does not change sdg\n",
    "        sdj_random_g = SyntheticDataset(num_nodes=num_nodes, num_obs=num_obsv, node_labels=node_labels, degree=degree, noise_scale=noise_scale, graph_type=graph_type)\n",
    "        initial_graph = sdj_random_g.adj_mat.values\n",
    "    else:\n",
    "        raise ValueError\n",
    "\n",
    "    np.savetxt(os.path.join(RESPATH, f\"MCMC_initial_graph_{exp_i}.csv\"), initial_graph, delimiter=',', fmt='%d')\n",
    "    proposal_object = GraphProposal(initial_graph, whitelist=None, blacklist=None)\n",
    "    score_object = score_type(data=data, incidence=initial_graph)\n",
    "\n",
    "    mcmc_obj = StructureMCMC(initial_graph, mcmc_iter, proposal_object, score_object)\n",
    "    mcmc_res, accept_rate = mcmc_obj.run()\n",
    "\n",
    "    t.set_description(\"%i: KL comparison\" % exp_i)\n",
    "    t.refresh()\n",
    "    time.sleep(0.01)\n",
    "    KL_MCMC_res, KL_OM_res, KL_OM_accepted_res = KL_comparison_OM_MCMC(mcmc_res, true_distr)\n",
    "\n",
    "    MCMC_results_dict.update({f\"KL_MCMC_{exp_i}\": KL_MCMC_res})\n",
    "    OM_results_dict.update({f\"KL_OM_{exp_i}\": KL_OM_res})\n",
    "    OM_accepted_results_dict.update({f\"KL_OM_accepted_{exp_i}\": KL_OM_accepted_res})\n",
    "\n",
    "    df = pd.DataFrame(MCMC_results_dict)\n",
    "    df.to_csv(os.path.join(RESPATH, 'MCMC_KL_results.csv'), index=True)\n",
    "    df = pd.DataFrame(OM_results_dict)\n",
    "    df.to_csv(os.path.join(RESPATH, 'OM_KL_results.csv'), index=True)\n",
    "    df = pd.DataFrame(OM_accepted_results_dict)\n",
    "    df.to_csv(os.path.join(RESPATH, 'OM_KL_accepted_only_results.csv'), index=True)\n",
    "\n",
    "    # For debugging purposes\n",
    "    graph_list = mcmc_obj.get_mcmc_res_graphs( mcmc_res )\n",
    "    score_list = mcmc_obj.get_mcmc_res_scores( mcmc_res )\n",
    "\n",
    "\n",
    "    with open(os.path.join(RESPATH, f'MCMC_results_{exp_i}.pkl'), 'wb') as f:\n",
    "        pickle.dump(graph_list, f)\n",
    "\n",
    "    with open(os.path.join(RESPATH, f'score_results_{exp_i}.pkl'), 'wb') as f:\n",
    "        pickle.dump(score_list, f)\n",
    "\n"
   ],
   "metadata": {
    "collapsed": false
   }
  },
  {
   "cell_type": "code",
   "execution_count": null,
   "outputs": [],
   "source": [
    "df.shape"
   ],
   "metadata": {
    "collapsed": false
   }
  },
  {
   "cell_type": "code",
   "execution_count": null,
   "outputs": [],
   "source": [
    "df_MCMC = pd.read_csv(os.path.join(RESPATH, 'MCMC_KL_results.csv'), index_col=0)\n",
    "df_OM = pd.read_csv(os.path.join(RESPATH, 'OM_KL_results.csv'), index_col=0)\n",
    "\n",
    "\n"
   ],
   "metadata": {
    "collapsed": false
   }
  },
  {
   "cell_type": "code",
   "execution_count": null,
   "outputs": [],
   "source": [
    "quantiles = [0.05, 0.95]\n",
    "\n",
    "MCMC_mean = df_MCMC.mean(axis=1)\n",
    "MCMC_std = df_MCMC.std(axis=1)\n",
    "\n",
    "MCMC_quantiles = df_MCMC.apply(lambda row: row.quantile(quantiles), axis=1)\n",
    "\n",
    "OM_mean = df_OM.mean(axis=1)\n",
    "OM_std = df_OM.std(axis=1)\n",
    "OM_quantiles = df_OM.apply(lambda row: row.quantile(quantiles), axis=1)\n",
    "\n",
    "OM_quantiles"
   ],
   "metadata": {
    "collapsed": false
   }
  },
  {
   "cell_type": "code",
   "execution_count": null,
   "outputs": [],
   "source": [
    "plt.plot(df_OM.iloc[:,0])\n",
    "plt.plot(df_OM.iloc[:,1])"
   ],
   "metadata": {
    "collapsed": false
   }
  },
  {
   "cell_type": "code",
   "execution_count": null,
   "outputs": [],
   "source": [
    "plt.plot(MCMC_mean)\n",
    "plt.plot(MCMC_mean, color='blue', label='MCMC')\n",
    "plt.fill_between(MCMC_mean.index, MCMC_quantiles[quantiles[0]], MCMC_quantiles[quantiles[1]], color='blue', alpha=0.2)\n",
    "plt.plot(OM_mean, color='red', label='OM')\n",
    "plt.fill_between(OM_mean.index, OM_quantiles[quantiles[0]], OM_quantiles[quantiles[1]], color='red', alpha=0.2)\n",
    "\n",
    "plt.xlabel('#Iteration')\n",
    "plt.ylabel('KL')\n",
    "plt.yscale('log')\n",
    "plt.title(f'KL divergence with respect to ground truth distribution: #Exp: {n_exp}')\n",
    "plt.legend()\n",
    "\n",
    "plt.savefig(os.path.join(RESPATH, 'MCMC_OM_Comparison.png'))"
   ],
   "metadata": {
    "collapsed": false
   }
  },
  {
   "cell_type": "code",
   "execution_count": null,
   "outputs": [],
   "source": [
    "n_exp = 10\n",
    "num_nodes = 6\n",
    "node_labels = [f\"X{i + 1}\" for i in range(num_nodes)]\n",
    "noise_scale = 1.\n",
    "score_type = BGeScore\n",
    "mcmc_iter = 100000\n",
    "degree = 1  # erdos-renyi sparsity - equivalent to 0.75\n",
    "num_obsv = 200\n",
    "graph_type =\"erdos-renyi\"\n",
    "\n",
    "DIRPATH = os.path.abspath(\"\")\n",
    "MAINRESPATH = os.path.join(DIRPATH, 'om_results')\n",
    "os.makedirs(MAINRESPATH, exist_ok=True)\n",
    "\n",
    "RESPATH = os.path.join(MAINRESPATH, datetime.datetime.now().strftime('%Y-%m-%d_%H-%M-%S'))\n",
    "os.makedirs(RESPATH, exist_ok=True)\n",
    "\n",
    "# Save metadata\n",
    "metadata_dict = {\"Num_experiments\": n_exp,\n",
    "                 \"num_nodes\": num_nodes,\n",
    "                 \"noise_scale\": noise_scale,\n",
    "                 \"score_type\": type(score_type).__name__,\n",
    "                 \"MCMC_start_point\": 'random',\n",
    "                 \"mcmc_iter\": mcmc_iter,\n",
    "                 \"graph_type\": graph_type,\n",
    "                 \"dag_sparse_degree\": degree\n",
    "                 }\n",
    "\n",
    "MCMC_results_dict = {}\n",
    "OM_results_dict = {}\n",
    "OM_accepted_results_dict = {}\n",
    "\n",
    "with open(os.path.join(RESPATH, 'metadata.csv'), 'w', newline=\"\") as csvfile:\n",
    "    w = csv.DictWriter(csvfile, metadata_dict.keys())\n",
    "    w.writeheader()\n",
    "    w.writerow(metadata_dict)\n",
    "\n",
    "t = trange(n_exp, desc='Bar desc', leave=True)\n",
    "for exp_i in t:\n",
    "    print(f\"Experiment: {exp_i}\")\n",
    "    # Generate true dag\n",
    "    t.set_description(\"%i: Generate true DAG\" % exp_i)\n",
    "    t.refresh()\n",
    "    time.sleep(0.01)\n",
    "    print(f\"{exp_i}: Generate true DAG\")\n",
    "\n",
    "    sdj = SyntheticDataset(num_nodes=num_nodes, num_obs=num_obsv, node_labels=node_labels, degree=degree, noise_scale=noise_scale, graph_type=graph_type)\n",
    "    metadata_dict[\"w_range\"] =  sdj.w_range\n",
    "\n",
    "\n",
    "    true_dag = sdj.adj_mat.values\n",
    "    print(true_dag)\n",
    "\n",
    "    # save dag to file\n",
    "    np.savetxt(os.path.join(RESPATH, f\"true_DAG_{exp_i}.csv\"), true_dag, delimiter=',', fmt='%d')\n",
    "\n",
    "    assert not (has_cycle(true_dag)), \"not a DAG\"\n",
    "\n",
    "    # Generate data based on the true DAG\n",
    "    t.set_description(\"%i: Generate data\" % exp_i)\n",
    "    t.refresh()\n",
    "    time.sleep(0.01)\n",
    "    print(f\"{exp_i}: Generate data\")\n",
    "\n",
    "\n",
    "    data = sdj.data\n",
    "    # save data to file\n",
    "    np.savetxt(os.path.join(RESPATH, f\"data_{exp_i}.csv\"), data, delimiter=',')\n",
    "\n",
    "    # Ground truth distribution\n",
    "    t.set_description(\"%i: Generate ground truth\" % exp_i)\n",
    "    t.refresh()\n",
    "    time.sleep(0.01)\n",
    "    print(f\"{exp_i}: Generate ground truth\")\n",
    "    all_dags = generate_all_dags(data, score_type, gen_augmented_priors=False)\n",
    "    true_distr = compute_true_distribution(all_dags, with_aug_prior=False)\n",
    "\n",
    "    # MCMC\n",
    "    t.set_description(\"%i: MCMC\" % exp_i)\n",
    "    t.refresh()\n",
    "    time.sleep(0.5)\n",
    "    print(f\"{exp_i}: MCMC\")\n",
    "    if metadata_dict['MCMC_start_point'] == 'random':\n",
    "        #static function does not change sdg\n",
    "        sdj_random_g = SyntheticDataset(num_nodes=num_nodes, num_obs=num_obsv, node_labels=node_labels, degree=degree, noise_scale=noise_scale, graph_type=graph_type)\n",
    "        initial_graph = sdj_random_g.adj_mat.values\n",
    "    else:\n",
    "        raise ValueError\n",
    "\n",
    "    np.savetxt(os.path.join(RESPATH, f\"MCMC_initial_graph_{exp_i}.csv\"), initial_graph, delimiter=',', fmt='%d')\n",
    "    proposal_object = GraphProposal(initial_graph, whitelist=None, blacklist=None)\n",
    "    score_object = score_type(data=data, incidence=initial_graph)\n",
    "\n",
    "    mcmc_obj = StructureMCMC(initial_graph, mcmc_iter, proposal_object, score_object)\n",
    "    mcmc_res, accept_rate = mcmc_obj.run()\n",
    "\n",
    "    t.set_description(\"%i: KL comparison\" % exp_i)\n",
    "    t.refresh()\n",
    "    time.sleep(0.01)\n",
    "    KL_MCMC_res, KL_OM_res, KL_OM_accepted_res = KL_comparison_OM_MCMC(mcmc_res, true_distr)\n",
    "\n",
    "    MCMC_results_dict.update({f\"KL_MCMC_{exp_i}\": KL_MCMC_res})\n",
    "    OM_results_dict.update({f\"KL_OM_{exp_i}\": KL_OM_res})\n",
    "    OM_accepted_results_dict.update({f\"KL_OM_accepted_{exp_i}\": KL_OM_accepted_res})\n",
    "\n",
    "    df = pd.DataFrame(MCMC_results_dict)\n",
    "    df.to_csv(os.path.join(RESPATH, 'MCMC_KL_results.csv'), index=True)\n",
    "    df = pd.DataFrame(OM_results_dict)\n",
    "    df.to_csv(os.path.join(RESPATH, 'OM_KL_results.csv'), index=True)\n",
    "    df = pd.DataFrame(OM_accepted_results_dict)\n",
    "    df.to_csv(os.path.join(RESPATH, 'OM_KL_accepted_only_results.csv'), index=True)\n",
    "\n",
    "    # For debugging purposes\n",
    "    graph_list = mcmc_obj.get_mcmc_res_graphs( mcmc_res )\n",
    "    score_list = mcmc_obj.get_mcmc_res_scores( mcmc_res )\n",
    "\n",
    "\n",
    "    with open(os.path.join(RESPATH, f'MCMC_results_{exp_i}.pkl'), 'wb') as f:\n",
    "        pickle.dump(graph_list, f)\n",
    "\n",
    "    with open(os.path.join(RESPATH, f'score_results_{exp_i}.pkl'), 'wb') as f:\n",
    "        pickle.dump(score_list, f)\n",
    "\n",
    "\n",
    "#Plotting\n",
    "df_MCMC = pd.read_csv(os.path.join(RESPATH, 'MCMC_KL_results.csv'), index_col=0)\n",
    "df_OM = pd.read_csv(os.path.join(RESPATH, 'OM_KL_results.csv'), index_col=0)\n",
    "quantiles = [0.05, 0.95]\n",
    "\n",
    "MCMC_mean = df_MCMC.mean(axis=1)\n",
    "MCMC_std = df_MCMC.std(axis=1)\n",
    "\n",
    "MCMC_quantiles = df_MCMC.apply(lambda row: row.quantile(quantiles), axis=1)\n",
    "\n",
    "OM_mean = df_OM.mean(axis=1)\n",
    "OM_std = df_OM.std(axis=1)\n",
    "OM_quantiles = df_OM.apply(lambda row: row.quantile(quantiles), axis=1)\n",
    "\n",
    "OM_quantiles\n",
    "\n",
    "plt.plot(MCMC_mean)\n",
    "plt.plot(MCMC_mean, color='blue', label='MCMC')\n",
    "plt.fill_between(MCMC_mean.index, MCMC_quantiles[quantiles[0]], MCMC_quantiles[quantiles[1]], color='blue', alpha=0.2)\n",
    "plt.plot(OM_mean, color='red', label='OM')\n",
    "plt.fill_between(OM_mean.index, OM_quantiles[quantiles[0]], OM_quantiles[quantiles[1]], color='red', alpha=0.2)\n",
    "\n",
    "plt.xlabel('#Iteration')\n",
    "plt.ylabel('KL')\n",
    "plt.yscale('log')\n",
    "plt.title(f'KL divergence with respect to ground truth distribution: #Exp: {n_exp}')\n",
    "plt.legend()\n",
    "\n",
    "plt.savefig(os.path.join(RESPATH, 'MCMC_OM_Comparison.png'))"
   ],
   "metadata": {
    "collapsed": false
   }
  },
  {
   "cell_type": "code",
   "execution_count": null,
   "outputs": [],
   "source": [],
   "metadata": {
    "collapsed": false
   }
  }
 ],
 "metadata": {
  "kernelspec": {
   "display_name": "Python 3",
   "language": "python",
   "name": "python3"
  },
  "language_info": {
   "codemirror_mode": {
    "name": "ipython",
    "version": 2
   },
   "file_extension": ".py",
   "mimetype": "text/x-python",
   "name": "python",
   "nbconvert_exporter": "python",
   "pygments_lexer": "ipython2",
   "version": "2.7.6"
  }
 },
 "nbformat": 4,
 "nbformat_minor": 0
}
